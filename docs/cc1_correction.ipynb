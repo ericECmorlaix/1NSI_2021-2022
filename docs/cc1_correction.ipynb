{
 "cells": [
  {
   "cell_type": "markdown",
   "metadata": {},
   "source": [
    "## Ex1 (= EX3 sujet 21-NSIJ2G11)"
   ]
  },
  {
   "cell_type": "code",
   "execution_count": 1,
   "metadata": {},
   "outputs": [
    {
     "data": {
      "text/plain": [
       "'0b1011001'"
      ]
     },
     "execution_count": 1,
     "metadata": {},
     "output_type": "execute_result"
    }
   ],
   "source": [
    "bin(89)"
   ]
  },
  {
   "cell_type": "code",
   "execution_count": 2,
   "metadata": {},
   "outputs": [
    {
     "data": {
      "text/plain": [
       "'0b10100101'"
      ]
     },
     "execution_count": 2,
     "metadata": {},
     "output_type": "execute_result"
    }
   ],
   "source": [
    "bin(0b11001110^0b01101011)"
   ]
  },
  {
   "cell_type": "code",
   "execution_count": 3,
   "metadata": {},
   "outputs": [
    {
     "data": {
      "text/plain": [
       "'0b11000'"
      ]
     },
     "execution_count": 3,
     "metadata": {},
     "output_type": "execute_result"
    }
   ],
   "source": [
    "bin(ord('A')^ord('Y'))"
   ]
  },
  {
   "cell_type": "code",
   "execution_count": 4,
   "metadata": {},
   "outputs": [
    {
     "data": {
      "text/plain": [
       "65"
      ]
     },
     "execution_count": 4,
     "metadata": {},
     "output_type": "execute_result"
    }
   ],
   "source": [
    "(ord('A')^ord('Y'))^ord('Y')"
   ]
  },
  {
   "cell_type": "code",
   "execution_count": 5,
   "metadata": {},
   "outputs": [
    {
     "data": {
      "text/plain": [
       "'A'"
      ]
     },
     "execution_count": 5,
     "metadata": {},
     "output_type": "execute_result"
    }
   ],
   "source": [
    "chr(65)"
   ]
  },
  {
   "cell_type": "code",
   "execution_count": 13,
   "metadata": {},
   "outputs": [],
   "source": [
    "def xor(n1,n2):\n",
    "    \"\"\"\n",
    "     prend en paramètre deux nombres n1 et n2 et renvoie le résultat de n1 ⊕ n2\n",
    "    \"\"\"\n",
    "    return n1^n2"
   ]
  },
  {
   "cell_type": "code",
   "execution_count": 7,
   "metadata": {},
   "outputs": [
    {
     "data": {
      "text/plain": [
       "'0b11000'"
      ]
     },
     "execution_count": 7,
     "metadata": {},
     "output_type": "execute_result"
    }
   ],
   "source": [
    "bin(xor(ord('A'),ord('Y')))"
   ]
  },
  {
   "cell_type": "code",
   "execution_count": 8,
   "metadata": {},
   "outputs": [],
   "source": [
    "def xor_crypt(message:str, cle:str)->list:\n",
    "    \"\"\"\n",
    "    Renvoie la liste des entiers correspondant au message crypté.\n",
    "    pré : message à crypter et clé de cryptage de même longueur\n",
    "    \"\"\"\n",
    "    assert len(message) == len(cle), \"la cle doit avoir la même longueur que le message\"\n",
    "    \n",
    "    message_code = [] \n",
    "    for i in range(len(message)):\n",
    "        message_code.append(xor(ord(message[i]), ord(cle[i])))\n",
    "    return message_code"
   ]
  },
  {
   "cell_type": "code",
   "execution_count": 9,
   "metadata": {},
   "outputs": [],
   "source": [
    "def xor_crypt_2(message:str, cle:str)->list:\n",
    "    \"\"\"\n",
    "    Renvoie la liste des entiers correspondant au message crypté.\n",
    "    pré : message à crypter et clé de cryptage de même longueur\n",
    "    \"\"\"\n",
    "    assert len(message) == len(cle), \"la cle doit avoir la même longueur que le message\"\n",
    "    \n",
    "    message_code = [] \n",
    "    for i in range(len(message)):\n",
    "        message_code+=[xor(ord(message[i]), ord(cle[i]))]\n",
    "    return message_code"
   ]
  },
  {
   "cell_type": "code",
   "execution_count": 10,
   "metadata": {},
   "outputs": [
    {
     "data": {
      "text/plain": [
       "[22, 6, 22, 6]"
      ]
     },
     "execution_count": 10,
     "metadata": {},
     "output_type": "execute_result"
    }
   ],
   "source": [
    "xor_crypt(\"titi\",\"bobo\")"
   ]
  },
  {
   "cell_type": "code",
   "execution_count": 11,
   "metadata": {},
   "outputs": [
    {
     "data": {
      "text/plain": [
       "[22, 6, 22, 6]"
      ]
     },
     "execution_count": 11,
     "metadata": {},
     "output_type": "execute_result"
    }
   ],
   "source": [
    "xor_crypt_2(\"titi\",\"bobo\")"
   ]
  },
  {
   "cell_type": "code",
   "execution_count": 22,
   "metadata": {},
   "outputs": [],
   "source": [
    "def generer_cle(mot : str, n : int) -> str:\n",
    "    \"\"\" renvoie la clé de longueur n à partir de la chaîne de caractères mot.\"\"\"\n",
    "    cle = \"\"\n",
    "    for i in range(n) :\n",
    "        cle += mot[i % len(mot)]\n",
    "        \n",
    "    return cle"
   ]
  },
  {
   "cell_type": "code",
   "execution_count": 3,
   "metadata": {},
   "outputs": [],
   "source": [
    "def generer_cle(mot : str, n : int) -> str:\n",
    "    \"\"\" renvoie la clé de longueur n à partir de la chaîne de caractères mot.\"\"\"\n",
    "    cle = mot * (n // len(mot))\n",
    "    for i in range(n % len(mot)) :\n",
    "        cle += mot[i]\n",
    "        \n",
    "    return cle"
   ]
  },
  {
   "cell_type": "code",
   "execution_count": 41,
   "metadata": {},
   "outputs": [],
   "source": [
    "def generer_cle(mot : str, n : int) -> str:\n",
    "    \"\"\" renvoie la clé de longueur n à partir de la chaîne de caractères mot.\"\"\"\n",
    "    difference = n -len(mot)\n",
    "    cle = mot\n",
    "    while difference > 0 :\n",
    "        for i in range(len(mot)) :\n",
    "            if difference > 0 :\n",
    "                cle += mot[i]\n",
    "            difference -= 1\n",
    "    return cle"
   ]
  },
  {
   "cell_type": "code",
   "execution_count": 4,
   "metadata": {},
   "outputs": [
    {
     "data": {
      "text/plain": [
       "'YAKYAKY'"
      ]
     },
     "execution_count": 4,
     "metadata": {},
     "output_type": "execute_result"
    }
   ],
   "source": [
    "generer_cle(\"YAK\", 7)"
   ]
  },
  {
   "cell_type": "code",
   "execution_count": 17,
   "metadata": {},
   "outputs": [],
   "source": [
    "def code_xor_message(message:str, cle:str)->str :\n",
    "    \n",
    "    message_code = \"\"\n",
    "    for nombre in xor_crypt(message,generer_cle(cle, len(message))):\n",
    "        message_code += chr(nombre)\n",
    "    return message_code"
   ]
  },
  {
   "cell_type": "code",
   "execution_count": 18,
   "metadata": {},
   "outputs": [
    {
     "data": {
      "text/plain": [
       "'\\x1b.%3.>+mk:$(0a.*5k4.%y,.*2*>$k=$k-$8-'"
      ]
     },
     "execution_count": 18,
     "metadata": {},
     "output_type": "execute_result"
    }
   ],
   "source": [
    "code_xor_message(\"Bonjour, ceci est mon message de test\", \"YAK\")"
   ]
  },
  {
   "cell_type": "code",
   "execution_count": 19,
   "metadata": {},
   "outputs": [
    {
     "data": {
      "text/plain": [
       "'Bonjour, ceci est mon message de test'"
      ]
     },
     "execution_count": 19,
     "metadata": {},
     "output_type": "execute_result"
    }
   ],
   "source": [
    "code_xor_message(code_xor_message(\"Bonjour, ceci est mon message de test\", \"YAK\"), \"YAK\")"
   ]
  },
  {
   "cell_type": "code",
   "execution_count": null,
   "metadata": {},
   "outputs": [],
   "source": []
  },
  {
   "cell_type": "markdown",
   "metadata": {},
   "source": [
    "## Ex2 (sujet 21-NSIJ1G11)"
   ]
  },
  {
   "cell_type": "code",
   "execution_count": 44,
   "metadata": {},
   "outputs": [],
   "source": [
    "flotte = {   \n",
    "    12 : {\"type\" : \"electrique\", \"etat\" : 1, \"station\" : \"Prefecture\"}, \n",
    "    80 : {\"type\" : \"classique\", \"etat\" : 0, \"station\" : \"Saint-Leu\"}, \n",
    "    45 : {\"type\" : \"classique\", \"etat\" : 1, \"station\" : \"Baraban\"}, \n",
    "    41 : {\"type\" : \"classique\", \"etat\" : -1, \"station\" : \"Citadelle\"}, \n",
    "    26 : {\"type\" : \"classique\", \"etat\" : 1, \"station\" : \"Coliseum\"}, \n",
    "    28 : {\"type\" : \"electrique\", \"etat\" : 0, \"station\" : \"Coliseum\"}, \n",
    "    74 : {\"type\" : \"electrique\", \"etat\" : 1, \"station\" : \"Jacobins\"}, \n",
    "    13 : {\"type\" : \"classique\", \"etat\" : 0, \"station\" : \"Citadelle\"}, \n",
    "    83 : {\"type\" : \"classique\", \"etat\" : -1, \"station\" : \"Saint-Leu\"}, \n",
    "    22 : {\"type\" : \"electrique\", \"etat\" : -1, \"station\" : \"Joffre\"} \n",
    "  }"
   ]
  },
  {
   "cell_type": "code",
   "execution_count": 21,
   "metadata": {},
   "outputs": [
    {
     "data": {
      "text/plain": [
       "{'type': 'classique', 'etat': 1, 'station': 'Coliseum'}"
      ]
     },
     "execution_count": 21,
     "metadata": {},
     "output_type": "execute_result"
    }
   ],
   "source": [
    "flotte[26]"
   ]
  },
  {
   "cell_type": "code",
   "execution_count": 22,
   "metadata": {},
   "outputs": [
    {
     "data": {
      "text/plain": [
       "0"
      ]
     },
     "execution_count": 22,
     "metadata": {},
     "output_type": "execute_result"
    }
   ],
   "source": [
    "flotte[80][\"etat\"]"
   ]
  },
  {
   "cell_type": "code",
   "execution_count": 23,
   "metadata": {},
   "outputs": [
    {
     "ename": "KeyError",
     "evalue": "99",
     "output_type": "error",
     "traceback": [
      "\u001b[1;31m---------------------------------------------------------------------------\u001b[0m",
      "\u001b[1;31mKeyError\u001b[0m                                  Traceback (most recent call last)",
      "\u001b[1;32m~\\AppData\\Local\\Temp/ipykernel_10484/3557255087.py\u001b[0m in \u001b[0;36m<module>\u001b[1;34m\u001b[0m\n\u001b[1;32m----> 1\u001b[1;33m \u001b[0mflotte\u001b[0m\u001b[1;33m[\u001b[0m\u001b[1;36m99\u001b[0m\u001b[1;33m]\u001b[0m\u001b[1;33m[\u001b[0m\u001b[1;34m\"etat\"\u001b[0m\u001b[1;33m]\u001b[0m\u001b[1;33m\u001b[0m\u001b[1;33m\u001b[0m\u001b[0m\n\u001b[0m",
      "\u001b[1;31mKeyError\u001b[0m: 99"
     ]
    }
   ],
   "source": [
    "flotte[99][\"etat\"]"
   ]
  },
  {
   "cell_type": "code",
   "execution_count": 37,
   "metadata": {},
   "outputs": [],
   "source": [
    "def proposition(choix) : \n",
    "    for v in flotte : \n",
    "        if flotte[v][\"type\"] == choix and flotte[v][\"etat\"] == 1: \n",
    "            return flotte[v][\"station\"]"
   ]
  },
  {
   "cell_type": "code",
   "execution_count": 38,
   "metadata": {},
   "outputs": [
    {
     "data": {
      "text/plain": [
       "'Prefecture'"
      ]
     },
     "execution_count": 38,
     "metadata": {},
     "output_type": "execute_result"
    }
   ],
   "source": [
    "proposition(\"electrique\")"
   ]
  },
  {
   "cell_type": "code",
   "execution_count": 39,
   "metadata": {},
   "outputs": [
    {
     "data": {
      "text/plain": [
       "'Baraban'"
      ]
     },
     "execution_count": 39,
     "metadata": {},
     "output_type": "execute_result"
    }
   ],
   "source": [
    "proposition(\"classique\")"
   ]
  },
  {
   "cell_type": "code",
   "execution_count": 44,
   "metadata": {},
   "outputs": [],
   "source": [
    "for v in flotte :\n",
    "    if flotte[v][\"station\"]== \"Citadelle\" and flotte[v][\"etat\"]==1 :\n",
    "        print(v)"
   ]
  },
  {
   "cell_type": "code",
   "execution_count": 47,
   "metadata": {},
   "outputs": [
    {
     "data": {
      "text/plain": [
       "[]"
      ]
     },
     "execution_count": 47,
     "metadata": {},
     "output_type": "execute_result"
    }
   ],
   "source": [
    "[v for v in flotte if flotte[v][\"station\"]== \"Citadelle\" and flotte[v][\"etat\"]==1]"
   ]
  },
  {
   "cell_type": "code",
   "execution_count": 46,
   "metadata": {},
   "outputs": [
    {
     "name": "stdout",
     "output_type": "stream",
     "text": [
      "12 Prefecture\n",
      "28 Coliseum\n",
      "74 Jacobins\n"
     ]
    }
   ],
   "source": [
    "for v in flotte :\n",
    "    if flotte[v][\"type\"]== \"electrique\" and not(flotte[v][\"etat\"]==-1) :\n",
    "        print(v, flotte[v][\"station\"])"
   ]
  },
  {
   "cell_type": "code",
   "execution_count": null,
   "metadata": {},
   "outputs": [],
   "source": [
    "stations =  { \n",
    "'Prefecture' : (49.8905, 2.2967) ,  \n",
    "'Saint-Leu' : (49.8982, 2.3017),  \n",
    "'Coliseum' :  (49.8942, 2.2874),  \n",
    "'Jacobins' : (49.8912, 2.3016) \n",
    "} "
   ]
  },
  {
   "cell_type": "code",
   "execution_count": null,
   "metadata": {},
   "outputs": [],
   "source": [
    "def proximite(coordonnees : tuple) -> list\n",
    " \"\"\" renvoie, pour chaque station située à moins de 800 mètres de l'utilisateur :\n",
    " o le nom de la station ;\n",
    " o la distance entre l'utilisateur et la station ;\n",
    " o les identifiants des vélos disponibles dans cette station.\n",
    " \"\"\"\n",
    "    infos = []\n",
    "    for nom in stations:\n",
    "        velos = trouve_identifiant(nom)\n",
    "        d = distance(coordonnees, stations[nom])\n",
    "        if d < 800 and len(velos):\n",
    "            infos.append( (nom, d, velos) )\n",
    "    return infos"
   ]
  },
  {
   "cell_type": "code",
   "execution_count": 47,
   "metadata": {},
   "outputs": [],
   "source": [
    "import math\n",
    "\n",
    "\n",
    "def distance(origin, destination):\n",
    "    \"\"\"\n",
    "    Calculate the Haversine distance.\n",
    "\n",
    "    Parameters\n",
    "    ----------\n",
    "    origin : tuple of float\n",
    "        (lat, long)\n",
    "    destination : tuple of float\n",
    "        (lat, long)\n",
    "\n",
    "    Returns\n",
    "    -------\n",
    "    distance_in_km : float\n",
    "\n",
    "    Examples\n",
    "    --------\n",
    "    >>> origin = (48.1372, 11.5756)  # Munich\n",
    "    >>> destination = (52.5186, 13.4083)  # Berlin\n",
    "    >>> round(distance(origin, destination), 1)\n",
    "    504.2\n",
    "    \"\"\"\n",
    "    lat1, lon1 = origin\n",
    "    lat2, lon2 = destination\n",
    "    radius = 6371  # km\n",
    "\n",
    "    dlat = math.radians(lat2 - lat1)\n",
    "    dlon = math.radians(lon2 - lon1)\n",
    "    a = (math.sin(dlat / 2) * math.sin(dlat / 2) +\n",
    "         math.cos(math.radians(lat1)) * math.cos(math.radians(lat2)) *\n",
    "         math.sin(dlon / 2) * math.sin(dlon / 2))\n",
    "    c = 2 * math.atan2(math.sqrt(a), math.sqrt(1 - a))\n",
    "    d = radius * c\n",
    "\n",
    "    return d\n",
    "\n",
    "\n",
    "if __name__ == '__main__':\n",
    "    import doctest\n",
    "    doctest.testmod()"
   ]
  },
  {
   "cell_type": "code",
   "execution_count": null,
   "metadata": {},
   "outputs": [],
   "source": [
    "## Ex3 "
   ]
  },
  {
   "cell_type": "code",
   "execution_count": null,
   "metadata": {},
   "outputs": [],
   "source": [
    "def total_hors_reduction(articles_panier : list) -> list:\n",
    " \"\"\" renvoie le total des prix des articles du panier.\"\"\"\n",
    " total = 0\n",
    " for article in articles_panier:\n",
    " total += article\n",
    " return total"
   ]
  },
  {
   "cell_type": "code",
   "execution_count": null,
   "metadata": {},
   "outputs": [],
   "source": [
    "def offre_bienvenue(tab):\n",
    " \"\"\" tableau -> float \"\"\"\n",
    " somme = 0\n",
    " longueur = len(tab)\n",
    " if longueur > 0 :\n",
    " somme = tab [0] * 0.8\n",
    " if longueur > 1 :\n",
    " somme = somme + (somme * 0.7)\n",
    " if longueur > 2 :\n",
    " for i in range(2, longueur ):\n",
    " somme = somme + tab[i]\n",
    " return somme"
   ]
  },
  {
   "cell_type": "code",
   "execution_count": null,
   "metadata": {},
   "outputs": [],
   "source": [
    "def prix_solde(prix_articles : list) -> float:\n",
    " \"\"\" renvoie le total des prix de ces articles\n",
    " lorsqu’on leur applique la réduction des soldes.\"\"\"\n",
    " total = total_hors_reduction(prix_articles)\n",
    " if len(prix_articles) >= 5:\n",
    " total *= 0.5\n",
    " else:\n",
    " total *= 1 - (0.1 * len(prix_articles))\n",
    " return total"
   ]
  },
  {
   "cell_type": "code",
   "execution_count": null,
   "metadata": {},
   "outputs": [],
   "source": [
    "def minimum(tab : list) -> float:\n",
    " \"\"\" renvoie la valeur minimum présente dans le tableau.\"\"\"\n",
    " if len(tab) == 0:\n",
    " return 0\n",
    " min = tab[0]\n",
    " for i in tab:\n",
    " if i < min:\n",
    " min = i\n",
    " return min"
   ]
  },
  {
   "cell_type": "code",
   "execution_count": null,
   "metadata": {},
   "outputs": [],
   "source": [
    "def offre_bon_client(prix_articles : list) -> float:\n",
    " \"\"\" renvoie le total à payer\n",
    " lorsqu’on leur applique l’offre bon client.\"\"\"\n",
    " if len(prix_articles) >= 2:\n",
    " return total_hors_reduction(prix_articles) - minimum(prix_articles)\n",
    " elif len(prix_articles) == 1:\n",
    " return prix_articles[0]\n",
    " else:\n",
    " return 0"
   ]
  },
  {
   "cell_type": "markdown",
   "metadata": {},
   "source": [
    "Tab = [30.5, 15.0, 35.0, 6.0, 20.0, 10.5, 5.0]\n",
    "\n",
    "promotion déstockage = 122.0 – 15.0 – 6.0 = 101.0€\n",
    "\n",
    "\n",
    "Tab = [35.0, 30.5, 20.0, 15.0, 10.5, 6.0, 5.0]\n",
    "\n",
    "promotion déstockage = 122.0 – 20.0 – 6.0 = 96.0€\n",
    "\n",
    "Le client doit trier ses articles par prix décroissants."
   ]
  },
  {
   "cell_type": "markdown",
   "metadata": {},
   "source": [
    "## Ex4 (sujet 21-NSIJ1G11)"
   ]
  },
  {
   "cell_type": "code",
   "execution_count": 1,
   "metadata": {},
   "outputs": [],
   "source": [
    "def dec_bin(dec:int)->list :\n",
    "    bin = []\n",
    "    quotient = dec\n",
    "    while quotient != 0 :\n",
    "        reste = quotient % 2\n",
    "        bin = [reste] + bin\n",
    "        quotient = quotient // 2\n",
    "    return bin"
   ]
  },
  {
   "cell_type": "code",
   "execution_count": 6,
   "metadata": {},
   "outputs": [],
   "source": [
    "def dec_bin(dec:int)->list :\n",
    "    bin = []\n",
    "    quotient = dec\n",
    "    while quotient != 0 :\n",
    "        reste = quotient % 2\n",
    "        bin.append(reste)\n",
    "        quotient = quotient // 2\n",
    "    bin.reverse()\n",
    "    return bin"
   ]
  },
  {
   "cell_type": "code",
   "execution_count": 7,
   "metadata": {},
   "outputs": [
    {
     "data": {
      "text/plain": [
       "[1, 0, 0]"
      ]
     },
     "execution_count": 7,
     "metadata": {},
     "output_type": "execute_result"
    }
   ],
   "source": [
    "dec_bin(4)"
   ]
  },
  {
   "cell_type": "code",
   "execution_count": null,
   "metadata": {},
   "outputs": [],
   "source": [
    "def maFonctionBin(nombre) :\n",
    "    reponse =\"\"\n",
    "    quotient = nombre\n",
    "    while quotient != 0 :\n",
    "        reste = quotient % 2\n",
    "        reponse = str(reste) + reponse\n",
    "        quotient = quotient // 2\n",
    "    return (f\"0b{reponse}\")"
   ]
  },
  {
   "cell_type": "code",
   "execution_count": 8,
   "metadata": {},
   "outputs": [],
   "source": [
    "def IP_bin(adressse_IP : list) -> list:\n",
    "    \"\"\" renvoie une liste de 4 listes correspondant à l'adresse IP en notation binaire.\n",
    "    pré: liste de 4 entiers compris entre 0 et 255 \"\"\"\n",
    "\n",
    "    adressse_IP_bin= []\n",
    "\n",
    "    for i in adressse_IP :\n",
    "        adressse_IP_bin.append(dec_bin(i))\n",
    "    \n",
    "    return adressse_IP_bin\n"
   ]
  },
  {
   "cell_type": "code",
   "execution_count": 14,
   "metadata": {},
   "outputs": [],
   "source": [
    "def IP_bin(adressse_IP : list) -> list:\n",
    "    \"\"\" renvoie une liste de 4 listes correspondant à l'adresse IP en notation binaire.\n",
    "    pré: liste de 4 entiers compris entre 0 et 255 \"\"\"\n",
    "\n",
    "    adressse_IP_bin= []\n",
    "\n",
    "    for octet in adressse_IP :\n",
    "        adressse_IP_bin += [dec_bin(octet)]\n",
    "    \n",
    "    return adressse_IP_bin"
   ]
  },
  {
   "cell_type": "code",
   "execution_count": 15,
   "metadata": {},
   "outputs": [
    {
     "data": {
      "text/plain": [
       "[[1, 1, 0, 0, 0, 0, 0, 0],\n",
       " [1, 0, 1, 0, 1, 0, 0, 0],\n",
       " [1, 0, 1, 0, 0],\n",
       " [1, 0, 1, 0]]"
      ]
     },
     "execution_count": 15,
     "metadata": {},
     "output_type": "execute_result"
    }
   ],
   "source": [
    "IP_bin([192,168,20,10])"
   ]
  },
  {
   "cell_type": "code",
   "execution_count": null,
   "metadata": {},
   "outputs": [],
   "source": [
    "def monAutreFonctionBin(nombre) :\n",
    "    # appel de la fonction de recherche du rang maximum du nombre à convertir\n",
    "    rang = rechercheRang(nombre)\n",
    "        \n",
    "    reponse =\"\"\n",
    "    \n",
    "    if nombre == 0 :\n",
    "        reponse = \"0\"\n",
    "        \n",
    "    while nombre != 0 :\n",
    "        if nombre == 2 ** rang :\n",
    "            reponse = reponse + \"1\" + \"0\" * rang\n",
    "            break\n",
    "        elif nombre > 2 ** rang :\n",
    "            reponse = reponse + \"1\"\n",
    "            nombre = nombre - 2 ** rang\n",
    "        else :\n",
    "            reponse = reponse + \"0\"\n",
    "        rang = rang -1\n",
    "    return (f\"0b{reponse}\")\n",
    "\n",
    "# definition de la fonction de recherche du rang maximum du nombre à convertir\n",
    "def rechercheRang(nombre) :\n",
    "    rang = 0\n",
    "    while nombre >= 2 ** (rang+1) :\n",
    "        rang = rang +1\n",
    "    return (rang) \n"
   ]
  }
 ],
 "metadata": {
  "interpreter": {
   "hash": "c813da0d88532624e95401f841607d640ef6d724b81c00ab0d0885f617a921c3"
  },
  "kernelspec": {
   "display_name": "Python 3.10.1 64-bit",
   "language": "python",
   "name": "python3"
  },
  "language_info": {
   "codemirror_mode": {
    "name": "ipython",
    "version": 3
   },
   "file_extension": ".py",
   "mimetype": "text/x-python",
   "name": "python",
   "nbconvert_exporter": "python",
   "pygments_lexer": "ipython3",
   "version": "3.10.1"
  },
  "orig_nbformat": 4
 },
 "nbformat": 4,
 "nbformat_minor": 2
}
