{
 "cells": [
  {
   "cell_type": "markdown",
   "metadata": {},
   "source": [
    "# Python génère des chaines de caractères pour MarkDown, HTML, ...\n",
    "\n",
    "Reprendre le <span class='fa fa-code' style=\"color: purple\"> A coder vous même :</span> du notebook [binaire](../Binaire-Le_BN_pour_coder)\n",
    " et, en vous inspirant du notebook [Display](../Display-Le_BN_pour_afficher),\n",
    " développer des scripts Python pour générer les chaines de caractères en MarkDown et HTML\n",
    "  qui reproduisent un tableau de conversion de décimal en binaire tel que :\n",
    "\n",
    "\n",
    "| dec\\bin | $128$ | $64$  | $32$  | $16$  |  $8$  |  $4$  |  $2$  |  $1$  |\n",
    "|---------|:-----:|:-----:|:-----:|:-----:|:-----:|:-----:|:-----:|:-----:|\n",
    "| $1$     |  $0$  |  $0$  |  $0$  |  $0$  |  $0$  |  $0$  |  $0$  |  $1$  |\n",
    "| $2$     |  $0$  |  $0$  |  $0$  |  $0$  |  $0$  |  $0$  |  $1$  |  $0$  |\n",
    "| $3$     |  $0$  |  $0$  |  $0$  |  $0$  |  $0$  |  $0$  |  $1$  |  $1$  |\n",
    "| $4$     |  $0$  |  $0$  |  $0$  |  $0$  |  $0$  |  $1$  |  $0$  |  $0$  |\n",
    "| $5$     |  $0$  |  $0$  |  $0$  |  $0$  |  $0$  |  $1$  |  $0$  |  $1$  |\n",
    "| $6$     |  $0$  |  $0$  |  $0$  |  $0$  |  $0$  |  $1$  |  $1$  |  $0$  |\n",
    "| $7$     |  $0$  |  $0$  |  $0$  |  $0$  |  $0$  |  $1$  |  $1$  |  $1$  |\n",
    "| $8$     |  $0$  |  $0$  |  $0$  |  $0$  |  $1$  |  $0$  |  $0$  |  $0$  |\n",
    "| $9$     |  $0$  |  $0$  |  $0$  |  $0$  |  $1$  |  $0$  |  $0$  |  $1$  |\n",
    "| $10$    |  $0$  |  $0$  |  $0$  |  $0$  |  $1$  |  $0$  |  $1$  |  $0$  |\n",
    "| $11$    |  $0$  |  $0$  |  $0$  |  $0$  |  $1$  |  $0$  |  $1$  |  $1$  |\n",
    "| $12$    |  $0$  |  $0$  |  $0$  |  $0$  |  $1$  |  $1$  |  $0$  |  $0$  |\n",
    "| $13$    |  $0$  |  $0$  |  $0$  |  $0$  |  $1$  |  $1$  |  $0$  |  $1$  |\n",
    "| $14$    |  $0$  |  $0$  |  $0$  |  $0$  |  $1$  |  $1$  |  $1$  |  $0$  |\n",
    "| $15$    |  $0$  |  $0$  |  $0$  |  $0$  |  $1$  |  $1$  |  $1$  |  $1$  |\n",
    "| $16$    |  $0$  |  $0$  |  $0$  |  $1$  |  $0$  |  $0$  |  $0$  |  $0$  |\n",
    "| $20$    |  $0$  |  $0$  |  $0$  |  $1$  |  $0$  |  $1$  |  $0$  |  $0$  |\n",
    "| $50$    |  $0$  |  $0$  |  $1$  |  $1$  |  $0$  |  $0$  |  $1$  |  $0$  |\n",
    "| $100$   |  $0$  |  $1$  |  $1$  |  $0$  |  $0$  |  $1$  |  $0$  |  $0$  |\n",
    "| $200$   |  $1$  |  $1$  |  $0$  |  $0$  |  $1$  |  $0$  |  $0$  |  $0$  |\n",
    "| $255$   |  $1$  |  $1$  |  $1$  |  $1$  |  $1$  |  $1$  |  $1$  |  $1$  |"
   ]
  },
  {
   "cell_type": "markdown",
   "metadata": {},
   "source": []
  }
 ],
 "metadata": {
  "kernelspec": {
   "display_name": "Python 3",
   "language": "python",
   "name": "python3"
  },
  "language_info": {
   "codemirror_mode": {
    "name": "ipython",
    "version": 3
   },
   "file_extension": ".py",
   "mimetype": "text/x-python",
   "name": "python",
   "nbconvert_exporter": "python",
   "pygments_lexer": "ipython3",
   "version": "3.7.3"
  },
  "toc": {
   "base_numbering": 1,
   "nav_menu": {},
   "number_sections": true,
   "sideBar": true,
   "skip_h1_title": false,
   "title_cell": "Table of Contents",
   "title_sidebar": "Contents",
   "toc_cell": false,
   "toc_position": {},
   "toc_section_display": true,
   "toc_window_display": false
  },
  "varInspector": {
   "cols": {
    "lenName": 16,
    "lenType": 16,
    "lenVar": 40
   },
   "kernels_config": {
    "python": {
     "delete_cmd_postfix": "",
     "delete_cmd_prefix": "del ",
     "library": "var_list.py",
     "varRefreshCmd": "print(var_dic_list())"
    },
    "r": {
     "delete_cmd_postfix": ") ",
     "delete_cmd_prefix": "rm(",
     "library": "var_list.r",
     "varRefreshCmd": "cat(var_dic_list()) "
    }
   },
   "types_to_exclude": [
    "module",
    "function",
    "builtin_function_or_method",
    "instance",
    "_Feature"
   ],
   "window_display": false
  }
 },
 "nbformat": 4,
 "nbformat_minor": 4
}
